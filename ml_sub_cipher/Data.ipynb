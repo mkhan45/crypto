{
 "cells": [
  {
   "cell_type": "code",
   "execution_count": 1,
   "metadata": {},
   "outputs": [],
   "source": [
    "from collections import Counter\n",
    "import random\n",
    "import numpy as np"
   ]
  },
  {
   "cell_type": "code",
   "execution_count": 2,
   "metadata": {},
   "outputs": [],
   "source": [
    "import re, string\n",
    "\n",
    "punc_regex = re.compile('[{}]'.format(re.escape(string.punctuation)))\n",
    "\n",
    "def strip_punc(corpus):\n",
    "    return punc_regex.sub('', corpus)"
   ]
  },
  {
   "cell_type": "code",
   "execution_count": 3,
   "metadata": {},
   "outputs": [
    {
     "name": "stdout",
     "output_type": "stream",
     "text": [
      "63291831 character(s)\n"
     ]
    }
   ],
   "source": [
    "path_to_wikipedia = \"./wikipedia.txt\"\n",
    "with open(path_to_wikipedia, \"rb\") as f:\n",
    "    wikipedia = f.read().decode()\n",
    "    wikipedia = wikipedia.lower()\n",
    "print(str(len(wikipedia)) + \" character(s)\")"
   ]
  },
  {
   "cell_type": "code",
   "execution_count": 4,
   "metadata": {},
   "outputs": [],
   "source": [
    "import re"
   ]
  },
  {
   "cell_type": "code",
   "execution_count": 5,
   "metadata": {},
   "outputs": [
    {
     "data": {
      "text/plain": [
       "54646"
      ]
     },
     "execution_count": 5,
     "metadata": {},
     "output_type": "execute_result"
    }
   ],
   "source": [
    "paras = re.split(r'\\n+', wikipedia)\n",
    "paras = list(filter(lambda par: len(par) >= 500, paras))\n",
    "len(paras)"
   ]
  },
  {
   "cell_type": "code",
   "execution_count": 6,
   "metadata": {},
   "outputs": [
    {
     "data": {
      "text/plain": [
       "'propaganda is a concerted set of messages aimed at influencing the opinions or behavior of large numbers of people instead of impartially providing information propaganda in its most basic sense presents information in order to influence its audience the most effective propaganda is often completely truthful but some propaganda presents facts selectively to encourage a particular synthesis or gives loaded messages in order to produce an emotional rather than rational response to the information presented the desired result is a change of the cognitive narrative of the subject in the target audience'"
      ]
     },
     "execution_count": 6,
     "metadata": {},
     "output_type": "execute_result"
    }
   ],
   "source": [
    "para = paras[0]\n",
    "strip_punc(para)"
   ]
  },
  {
   "cell_type": "code",
   "execution_count": 7,
   "metadata": {},
   "outputs": [],
   "source": [
    "letter_map = Counter(strip_punc(para))"
   ]
  },
  {
   "cell_type": "code",
   "execution_count": 8,
   "metadata": {},
   "outputs": [],
   "source": [
    "encoded_para = [letter_map[ch] for ch in para]"
   ]
  },
  {
   "cell_type": "code",
   "execution_count": 9,
   "metadata": {},
   "outputs": [
    {
     "data": {
      "text/plain": [
       "'propaganda is a concerted set of messages aimed at influencing the opinions or behavior of large numbers of people. instead of impartially providing information, propaganda in its most basic sense presents information in order to influence its audience. the most effective propaganda is often completely truthful, but some propaganda presents facts selectively to encourage a particular synthesis, or gives loaded messages in order to produce an emotional rather than rational response to the informa'"
      ]
     },
     "execution_count": 9,
     "metadata": {},
     "output_type": "execute_result"
    }
   ],
   "source": [
    "paras[0][:500]"
   ]
  },
  {
   "cell_type": "code",
   "execution_count": 10,
   "metadata": {},
   "outputs": [],
   "source": [
    "def encode_text(text, letter_map):\n",
    "    return np.array([letter_map[ch] for ch in text])"
   ]
  },
  {
   "cell_type": "code",
   "execution_count": 47,
   "metadata": {},
   "outputs": [],
   "source": [
    "data = []\n",
    "for i, para in enumerate(paras[:10_000]):\n",
    "    para = para[:500].upper()\n",
    "    letter_map = Counter(para)\n",
    "    encoded = encode_text(para.upper(), letter_map)\n",
    "    \n",
    "    alpha = 'ABCDEFGHIJKLMNOPQRSTUVWXYZ'\n",
    "    alpha2 = list('ABCDEFGHIJKLMNOPQRSTUVWXYZ')\n",
    "    random.shuffle(alpha2)\n",
    "    alpha2 = ''.join(alpha2)\n",
    "    \n",
    "    trans_table = {ord(alpha[i]) : alpha2[i] for i in range(26)}\n",
    "#     print(trans_table)\n",
    "    \n",
    "    translated = para.translate(trans_table)\n",
    "#     print(para)\n",
    "#     print('____')\n",
    "#     print(translated)\n",
    "#     print('____')\n",
    "    encoded2 = encode_text(translated, letter_map)\n",
    "    \n",
    "    alpha_encode = {ch : i for i, ch in enumerate(alpha)}\n",
    "    \n",
    "    data.append((encoded, encoded2, encode_text(alpha2, alpha_encode)))"
   ]
  },
  {
   "cell_type": "code",
   "execution_count": 57,
   "metadata": {},
   "outputs": [],
   "source": [
    "data = np.array(data)"
   ]
  },
  {
   "cell_type": "code",
   "execution_count": 61,
   "metadata": {},
   "outputs": [
    {
     "data": {
      "text/plain": [
       "array([17, 25, 22, 18, 15, 21,  6,  7, 11, 24,  1, 16,  2, 20,  8, 19, 23,\n",
       "       12,  0,  4,  3,  5, 14, 13,  9, 10])"
      ]
     },
     "execution_count": 61,
     "metadata": {},
     "output_type": "execute_result"
    }
   ],
   "source": [
    "data[0][2]"
   ]
  },
  {
   "cell_type": "code",
   "execution_count": 59,
   "metadata": {},
   "outputs": [
    {
     "data": {
      "text/plain": [
       "(10000, 3)"
      ]
     },
     "execution_count": 59,
     "metadata": {},
     "output_type": "execute_result"
    }
   ],
   "source": [
    "data.shape"
   ]
  },
  {
   "cell_type": "code",
   "execution_count": 60,
   "metadata": {},
   "outputs": [],
   "source": [
    "np.save('data', data)"
   ]
  },
  {
   "cell_type": "code",
   "execution_count": 51,
   "metadata": {},
   "outputs": [
    {
     "data": {
      "text/plain": [
       "501"
      ]
     },
     "execution_count": 51,
     "metadata": {},
     "output_type": "execute_result"
    }
   ],
   "source": [
    "max(len(para[0]) for para in data)"
   ]
  },
  {
   "cell_type": "code",
   "execution_count": 34,
   "metadata": {},
   "outputs": [
    {
     "data": {
      "text/plain": [
       "array([ 4, 13, 12, 18,  3,  8, 25, 20, 15, 11, 23, 24,  6, 14,  2,  0, 22,\n",
       "       17, 19, 10, 16,  5, 21,  7,  9,  1])"
      ]
     },
     "execution_count": 34,
     "metadata": {},
     "output_type": "execute_result"
    }
   ],
   "source": [
    "data[0][2]"
   ]
  },
  {
   "cell_type": "code",
   "execution_count": null,
   "metadata": {},
   "outputs": [],
   "source": []
  }
 ],
 "metadata": {
  "kernelspec": {
   "display_name": "Python 3",
   "language": "python",
   "name": "python3"
  },
  "language_info": {
   "codemirror_mode": {
    "name": "ipython",
    "version": 3
   },
   "file_extension": ".py",
   "mimetype": "text/x-python",
   "name": "python",
   "nbconvert_exporter": "python",
   "pygments_lexer": "ipython3",
   "version": "3.7.1"
  }
 },
 "nbformat": 4,
 "nbformat_minor": 2
}
